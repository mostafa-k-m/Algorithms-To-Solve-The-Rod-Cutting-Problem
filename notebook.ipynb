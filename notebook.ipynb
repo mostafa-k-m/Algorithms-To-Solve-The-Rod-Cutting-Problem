{
 "cells": [
  {
   "cell_type": "markdown",
   "metadata": {},
   "source": [
    "# Rod Cutting Problem"
   ]
  },
  {
   "cell_type": "code",
   "execution_count": 1,
   "metadata": {},
   "outputs": [],
   "source": [
    "import numpy as np\n",
    "cut_prices = [0, 1, 5, 8, 9, 10, 17, 17, 20, 24, 30]"
   ]
  },
  {
   "cell_type": "markdown",
   "metadata": {},
   "source": [
    "## First Approach: Brute Force\n",
    "### Pseudocode"
   ]
  },
  {
   "cell_type": "markdown",
   "metadata": {},
   "source": [
    "**Algorithm** pure_brute_force_cutter(length, cut_prices)\n",
    "\n",
    "    // Given the length we want to solve for, and an array of prices for each cut length\n",
    "    \n",
    "    if length <=0:\n",
    "        return 0\n",
    "    value <- -infinity\n",
    "    for length_of_cut <- 1 to length:\n",
    "        if length_of_cut <= 10:\n",
    "            value = max(value, cut_prices[length_of_cut] + pure_brute_force_cutter(length-length_of_cut))\n",
    "    return value"
   ]
  },
  {
   "cell_type": "markdown",
   "metadata": {},
   "source": [
    "### Mathematical Analysis\n",
    "recurrence relation is still:\n",
    "\n",
    "$ T(n) = 1+ \\sum_{i=0}^{n-1}T(i)$\n",
    "\n",
    "by substitution:\n",
    "\n",
    "$ T(1) = 1+ T(0)$\n",
    "\n",
    "$ T(2) = 1+ T(0) + T(1) = 2+ 2T(0)$\n",
    "\n",
    "$ T(3) = 1+ T(0) + T(1) + T(2) = 4+ 4T(0)$\n",
    "\n",
    "$ T(4) = 1+ T(0) + T(1) + T(2) + T(3) = 8+ 8T(0)$\n",
    "\n",
    "it follows that:\n",
    "\n",
    "$ T(n) = 2^{n-1} + 2^{n-1}T(0)$\n",
    "\n",
    "thus $T(n)$ $\\epsilon$  $O(2^{n})$"
   ]
  },
  {
   "cell_type": "markdown",
   "metadata": {},
   "source": [
    "### Python Implementation"
   ]
  },
  {
   "cell_type": "code",
   "execution_count": 2,
   "metadata": {},
   "outputs": [],
   "source": [
    "def pure_brute_force_cutter(length, cut_prices = cut_prices, carry_over_tens = 0):\n",
    "    if length <=0:\n",
    "        return 0\n",
    "    value = -np.inf\n",
    "    for length_of_cut in range(1,length+1):\n",
    "        if length_of_cut <= 10:\n",
    "            value = max(value, cut_prices[length_of_cut] + pure_brute_force_cutter(length-length_of_cut))\n",
    "    return value"
   ]
  },
  {
   "cell_type": "code",
   "execution_count": 3,
   "metadata": {},
   "outputs": [
    {
     "name": "stdout",
     "output_type": "stream",
     "text": [
      "Maximum revenue from a rod of length 5 is 13\n",
      "Maximum revenue from a rod of length 6 is 17\n",
      "Maximum revenue from a rod of length 7 is 18\n",
      "Maximum revenue from a rod of length 8 is 22\n",
      "Maximum revenue from a rod of length 9 is 25\n",
      "Maximum revenue from a rod of length 10 is 30\n",
      "Maximum revenue from a rod of length 11 is 31\n",
      "Maximum revenue from a rod of length 12 is 35\n",
      "Maximum revenue from a rod of length 13 is 38\n",
      "Maximum revenue from a rod of length 14 is 40\n",
      "Maximum revenue from a rod of length 15 is 43\n",
      "Maximum revenue from a rod of length 16 is 47\n",
      "Maximum revenue from a rod of length 17 is 48\n",
      "Maximum revenue from a rod of length 18 is 52\n",
      "Maximum revenue from a rod of length 19 is 55\n",
      "Maximum revenue from a rod of length 20 is 60\n",
      "Maximum revenue from a rod of length 21 is 61\n",
      "Maximum revenue from a rod of length 22 is 65\n",
      "Maximum revenue from a rod of length 23 is 68\n",
      "Maximum revenue from a rod of length 24 is 70\n",
      "Maximum revenue from a rod of length 25 is 73\n",
      "Maximum revenue from a rod of length 26 is 77\n",
      "Maximum revenue from a rod of length 27 is 78\n",
      "Maximum revenue from a rod of length 28 is 82\n",
      "Maximum revenue from a rod of length 29 is 85\n",
      "Maximum revenue from a rod of length 30 is 90\n",
      "\n",
      "This took 749.6686618328094 seconds\n"
     ]
    }
   ],
   "source": [
    "import time\n",
    "before = time.time()\n",
    "for i in range(5, 31):\n",
    "    print(f'Maximum revenue from a rod of length {i} is {pure_brute_force_cutter(i)}')\n",
    "after = time.time()\n",
    "print(f'\\nThis took {after-before} seconds')"
   ]
  },
  {
   "cell_type": "markdown",
   "metadata": {},
   "source": [
    "### Using a trick to enhance performance\n",
    "Looking at the cut_price list, we can see that for a length of 10, we can't get a value higher than 30. so we can start exluding 10s from the input length until we are left with a value < 10, then we can solve that with brute force"
   ]
  },
  {
   "cell_type": "code",
   "execution_count": 4,
   "metadata": {},
   "outputs": [],
   "source": [
    "def brute_force_cutter_with_a_trick(length, cut_prices = cut_prices, carry_over_tens = 0):\n",
    "    if length <=0:\n",
    "        return 0\n",
    "    elif length> 10:\n",
    "        carry_over_tens = length//10\n",
    "        value = brute_force_cutter_with_a_trick(length-10*carry_over_tens, carry_over_tens = carry_over_tens)+  carry_over_tens*30\n",
    "        return value\n",
    "    chosen_cuts = []\n",
    "    value = -np.inf\n",
    "    for length_of_cut in range(1,length+1):\n",
    "        if length_of_cut <= 10:\n",
    "            value = max(value, cut_prices[length_of_cut] + brute_force_cutter_with_a_trick(length-length_of_cut))\n",
    "    return value"
   ]
  },
  {
   "cell_type": "code",
   "execution_count": 12,
   "metadata": {},
   "outputs": [
    {
     "name": "stdout",
     "output_type": "stream",
     "text": [
      "Maximum revenue from a rod of length 5 is 13\n",
      "Maximum revenue from a rod of length 6 is 17\n",
      "Maximum revenue from a rod of length 7 is 18\n",
      "Maximum revenue from a rod of length 8 is 22\n",
      "Maximum revenue from a rod of length 9 is 25\n",
      "Maximum revenue from a rod of length 10 is 30\n",
      "Maximum revenue from a rod of length 11 is 31\n",
      "Maximum revenue from a rod of length 12 is 35\n",
      "Maximum revenue from a rod of length 13 is 38\n",
      "Maximum revenue from a rod of length 14 is 40\n",
      "Maximum revenue from a rod of length 15 is 43\n",
      "Maximum revenue from a rod of length 16 is 47\n",
      "Maximum revenue from a rod of length 17 is 48\n",
      "Maximum revenue from a rod of length 18 is 52\n",
      "Maximum revenue from a rod of length 19 is 55\n",
      "Maximum revenue from a rod of length 20 is 60\n",
      "Maximum revenue from a rod of length 21 is 61\n",
      "Maximum revenue from a rod of length 22 is 65\n",
      "Maximum revenue from a rod of length 23 is 68\n",
      "Maximum revenue from a rod of length 24 is 70\n",
      "Maximum revenue from a rod of length 25 is 73\n",
      "Maximum revenue from a rod of length 26 is 77\n",
      "Maximum revenue from a rod of length 27 is 78\n",
      "Maximum revenue from a rod of length 28 is 82\n",
      "Maximum revenue from a rod of length 29 is 85\n",
      "Maximum revenue from a rod of length 30 is 90\n",
      "Maximum revenue from a rod of length 31 is 91\n",
      "Maximum revenue from a rod of length 32 is 95\n",
      "Maximum revenue from a rod of length 33 is 98\n",
      "Maximum revenue from a rod of length 34 is 100\n",
      "Maximum revenue from a rod of length 35 is 103\n",
      "Maximum revenue from a rod of length 36 is 107\n",
      "Maximum revenue from a rod of length 37 is 108\n",
      "Maximum revenue from a rod of length 38 is 112\n",
      "Maximum revenue from a rod of length 39 is 115\n",
      "Maximum revenue from a rod of length 40 is 120\n",
      "Maximum revenue from a rod of length 41 is 121\n",
      "Maximum revenue from a rod of length 42 is 125\n",
      "Maximum revenue from a rod of length 43 is 128\n",
      "Maximum revenue from a rod of length 44 is 130\n",
      "Maximum revenue from a rod of length 45 is 133\n",
      "Maximum revenue from a rod of length 46 is 137\n",
      "Maximum revenue from a rod of length 47 is 138\n",
      "Maximum revenue from a rod of length 48 is 142\n",
      "Maximum revenue from a rod of length 49 is 145\n",
      "Maximum revenue from a rod of length 50 is 150\n",
      "\n",
      "This took 0.003371000289916992 seconds\n"
     ]
    }
   ],
   "source": [
    "before = time.time()\n",
    "for i in range(5, 51):\n",
    "    print(f'Maximum revenue from a rod of length {i} is {brute_force_cutter_with_a_trick(i)}')\n",
    "after = time.time()\n",
    "print(f'\\nThis took {after-before} seconds')"
   ]
  },
  {
   "cell_type": "markdown",
   "metadata": {},
   "source": [
    "## Second Approach: Dynamic Programming - Bottom Up\n",
    "### Pseudocode"
   ]
  },
  {
   "cell_type": "markdown",
   "metadata": {},
   "source": [
    "**Algorithm** bottom_up_cutter(length, cut_prices)\n",
    "\n",
    "    tabulated_lengths[0 .. length] = - infinity\n",
    "    for i = 1 to length:\n",
    "        value = - indinity\n",
    "        for j = 1 to i:\n",
    "            if j <=10:\n",
    "                value = max(value,cut_prices[j]+ tabulated_lengths[i-j])\n",
    "    return tabulated_lengths[length]"
   ]
  },
  {
   "cell_type": "markdown",
   "metadata": {},
   "source": [
    "### Mathematical Analysis\n",
    "$\\sum_{i=1}^{n}[\\sum_{j=1}^{i}(c)]$\n",
    "\n",
    "$=c\\sum_{i=0}^{n}i$\n",
    "\n",
    "$=c*\\frac{n(n+1)}{2}$\n",
    "\n",
    "$=c*\\frac{n(n+1)}{2}$\n",
    "\n",
    "$\\epsilon$  $O(n^{2})$"
   ]
  },
  {
   "cell_type": "markdown",
   "metadata": {},
   "source": [
    "### Python Implementation\n",
    "We will use python decorators to achieve memoization, a common technique in python"
   ]
  },
  {
   "cell_type": "code",
   "execution_count": 6,
   "metadata": {},
   "outputs": [],
   "source": [
    "def bottom_up_cutter(length, cut_prices = cut_prices):\n",
    "    tabulated_lengths = {0:0}\n",
    "    for i in range(1,length+1):\n",
    "        value = -np.inf\n",
    "        for j in range(1,i+1):\n",
    "            if j <=10:\n",
    "                value = max(value,cut_prices[j]+ tabulated_lengths[i-j])\n",
    "        tabulated_lengths[i] = value\n",
    "    return tabulated_lengths[length]"
   ]
  },
  {
   "cell_type": "code",
   "execution_count": 13,
   "metadata": {},
   "outputs": [
    {
     "name": "stdout",
     "output_type": "stream",
     "text": [
      "Maximum revenue from a rod of length 5 is 13\n",
      "Maximum revenue from a rod of length 6 is 17\n",
      "Maximum revenue from a rod of length 7 is 18\n",
      "Maximum revenue from a rod of length 8 is 22\n",
      "Maximum revenue from a rod of length 9 is 25\n",
      "Maximum revenue from a rod of length 10 is 30\n",
      "Maximum revenue from a rod of length 11 is 31\n",
      "Maximum revenue from a rod of length 12 is 35\n",
      "Maximum revenue from a rod of length 13 is 38\n",
      "Maximum revenue from a rod of length 14 is 40\n",
      "Maximum revenue from a rod of length 15 is 43\n",
      "Maximum revenue from a rod of length 16 is 47\n",
      "Maximum revenue from a rod of length 17 is 48\n",
      "Maximum revenue from a rod of length 18 is 52\n",
      "Maximum revenue from a rod of length 19 is 55\n",
      "Maximum revenue from a rod of length 20 is 60\n",
      "Maximum revenue from a rod of length 21 is 61\n",
      "Maximum revenue from a rod of length 22 is 65\n",
      "Maximum revenue from a rod of length 23 is 68\n",
      "Maximum revenue from a rod of length 24 is 70\n",
      "Maximum revenue from a rod of length 25 is 73\n",
      "Maximum revenue from a rod of length 26 is 77\n",
      "Maximum revenue from a rod of length 27 is 78\n",
      "Maximum revenue from a rod of length 28 is 82\n",
      "Maximum revenue from a rod of length 29 is 85\n",
      "Maximum revenue from a rod of length 30 is 90\n",
      "Maximum revenue from a rod of length 31 is 91\n",
      "Maximum revenue from a rod of length 32 is 95\n",
      "Maximum revenue from a rod of length 33 is 98\n",
      "Maximum revenue from a rod of length 34 is 100\n",
      "Maximum revenue from a rod of length 35 is 103\n",
      "Maximum revenue from a rod of length 36 is 107\n",
      "Maximum revenue from a rod of length 37 is 108\n",
      "Maximum revenue from a rod of length 38 is 112\n",
      "Maximum revenue from a rod of length 39 is 115\n",
      "Maximum revenue from a rod of length 40 is 120\n",
      "Maximum revenue from a rod of length 41 is 121\n",
      "Maximum revenue from a rod of length 42 is 125\n",
      "Maximum revenue from a rod of length 43 is 128\n",
      "Maximum revenue from a rod of length 44 is 130\n",
      "Maximum revenue from a rod of length 45 is 133\n",
      "Maximum revenue from a rod of length 46 is 137\n",
      "Maximum revenue from a rod of length 47 is 138\n",
      "Maximum revenue from a rod of length 48 is 142\n",
      "Maximum revenue from a rod of length 49 is 145\n",
      "Maximum revenue from a rod of length 50 is 150\n",
      "\n",
      "This took 0.003360748291015625 seconds\n"
     ]
    }
   ],
   "source": [
    "before = time.time()\n",
    "for i in range(5, 51):\n",
    "    print(f'Maximum revenue from a rod of length {i} is {bottom_up_cutter(i)}')\n",
    "after = time.time()\n",
    "print(f'\\nThis took {after-before} seconds')"
   ]
  },
  {
   "cell_type": "markdown",
   "metadata": {},
   "source": [
    "## Third Approach: Dynamic Programming with Memoization\n",
    "### Pseudocode"
   ]
  },
  {
   "cell_type": "markdown",
   "metadata": {},
   "source": [
    "**Algorithm** memoize(length, cut_prices)\n",
    "\n",
    "    memory[0 ..length] = -infinity\n",
    "    return memoized_cutter(length, cut_prices)\n",
    "    \n",
    "**Algorithm** memoized_cutter(length, cut_prices)\n",
    "\n",
    "    if memory[length] >= 0:\n",
    "        return memory[length]\n",
    "    else if length <= 0:\n",
    "        return 0\n",
    "    else:\n",
    "    value = -infinity\n",
    "    for length_of_cut = 1 to length:\n",
    "        value = max(value, cut_prices[length_of_cut] + memoized_cutter(length-length_of_cut))\n",
    "    memory[length] = value\n",
    "    return value"
   ]
  },
  {
   "cell_type": "markdown",
   "metadata": {},
   "source": [
    "### Mathematical Analysis\n",
    "recurrence relation is still:\n",
    "\n",
    "$ T(n) = 1+ \\sum_{i=0}^{n-1}T(i)$\n",
    "\n",
    "However we massively reduced the number of calculations required"
   ]
  },
  {
   "cell_type": "markdown",
   "metadata": {},
   "source": [
    "### Python Implementation\n",
    "We will use python decorators to achieve memoization, a common technique in python"
   ]
  },
  {
   "cell_type": "code",
   "execution_count": 8,
   "metadata": {},
   "outputs": [],
   "source": [
    "def memoize(func):\n",
    "    memory = {}\n",
    "    def wrapper(x):\n",
    "        if x not in memory:\n",
    "            memory[x] = func(x)\n",
    "        return memory[x]\n",
    "    return wrapper\n",
    "\n",
    "@memoize\n",
    "def memoized_cutter(length, cut_prices = cut_prices):\n",
    "    if length <=0:\n",
    "        return 0\n",
    "    value = -np.inf\n",
    "    if length <= 10:\n",
    "        for length_of_cut in range(1,length+1):\n",
    "            if length_of_cut <= 10:\n",
    "                value = max(value, cut_prices[length_of_cut] + memoized_cutter(length-length_of_cut))\n",
    "        return value\n",
    "    else:\n",
    "        return memoized_cutter(length-10) + 30"
   ]
  },
  {
   "cell_type": "code",
   "execution_count": 14,
   "metadata": {},
   "outputs": [
    {
     "name": "stdout",
     "output_type": "stream",
     "text": [
      "Maximum revenue from a rod of length 5 is 13\n",
      "Maximum revenue from a rod of length 6 is 17\n",
      "Maximum revenue from a rod of length 7 is 18\n",
      "Maximum revenue from a rod of length 8 is 22\n",
      "Maximum revenue from a rod of length 9 is 25\n",
      "Maximum revenue from a rod of length 10 is 30\n",
      "Maximum revenue from a rod of length 11 is 31\n",
      "Maximum revenue from a rod of length 12 is 35\n",
      "Maximum revenue from a rod of length 13 is 38\n",
      "Maximum revenue from a rod of length 14 is 40\n",
      "Maximum revenue from a rod of length 15 is 43\n",
      "Maximum revenue from a rod of length 16 is 47\n",
      "Maximum revenue from a rod of length 17 is 48\n",
      "Maximum revenue from a rod of length 18 is 52\n",
      "Maximum revenue from a rod of length 19 is 55\n",
      "Maximum revenue from a rod of length 20 is 60\n",
      "Maximum revenue from a rod of length 21 is 61\n",
      "Maximum revenue from a rod of length 22 is 65\n",
      "Maximum revenue from a rod of length 23 is 68\n",
      "Maximum revenue from a rod of length 24 is 70\n",
      "Maximum revenue from a rod of length 25 is 73\n",
      "Maximum revenue from a rod of length 26 is 77\n",
      "Maximum revenue from a rod of length 27 is 78\n",
      "Maximum revenue from a rod of length 28 is 82\n",
      "Maximum revenue from a rod of length 29 is 85\n",
      "Maximum revenue from a rod of length 30 is 90\n",
      "Maximum revenue from a rod of length 31 is 91\n",
      "Maximum revenue from a rod of length 32 is 95\n",
      "Maximum revenue from a rod of length 33 is 98\n",
      "Maximum revenue from a rod of length 34 is 100\n",
      "Maximum revenue from a rod of length 35 is 103\n",
      "Maximum revenue from a rod of length 36 is 107\n",
      "Maximum revenue from a rod of length 37 is 108\n",
      "Maximum revenue from a rod of length 38 is 112\n",
      "Maximum revenue from a rod of length 39 is 115\n",
      "Maximum revenue from a rod of length 40 is 120\n",
      "Maximum revenue from a rod of length 41 is 121\n",
      "Maximum revenue from a rod of length 42 is 125\n",
      "Maximum revenue from a rod of length 43 is 128\n",
      "Maximum revenue from a rod of length 44 is 130\n",
      "Maximum revenue from a rod of length 45 is 133\n",
      "Maximum revenue from a rod of length 46 is 137\n",
      "Maximum revenue from a rod of length 47 is 138\n",
      "Maximum revenue from a rod of length 48 is 142\n",
      "Maximum revenue from a rod of length 49 is 145\n",
      "Maximum revenue from a rod of length 50 is 150\n",
      "\n",
      "This took 0.002025127410888672 seconds\n"
     ]
    }
   ],
   "source": [
    "before = time.time()\n",
    "for i in range(5, 51):\n",
    "    print(f'Maximum revenue from a rod of length {i} is {memoized_cutter(i)}')\n",
    "after = time.time()\n",
    "print(f'\\nThis took {after-before} seconds')"
   ]
  },
  {
   "cell_type": "markdown",
   "metadata": {},
   "source": [
    "# Empirical analysis\n",
    "We will run each of the four algorithms on rods of length 5 through 50 inches. we will run each length 10 times and take the average running time to plot the order of growth function. Ecept for the pure_brute_force_cutter, we will run it only up to length of 25 because it takes so long to run and the curve will dwarf the other curves anyway."
   ]
  },
  {
   "cell_type": "code",
   "execution_count": 15,
   "metadata": {},
   "outputs": [],
   "source": [
    "X = list(range(5,51))"
   ]
  },
  {
   "cell_type": "code",
   "execution_count": 16,
   "metadata": {},
   "outputs": [],
   "source": [
    "import timeit, functools\n",
    "\n",
    "times_for_pure_brute_force_cutter = []\n",
    "for i in X[0:21]:\n",
    "    t = timeit.Timer(functools.partial(pure_brute_force_cutter, i))\n",
    "    elapsed_time = t.timeit(10)/10\n",
    "    times_for_pure_brute_force_cutter.append(elapsed_time)"
   ]
  },
  {
   "cell_type": "code",
   "execution_count": 17,
   "metadata": {},
   "outputs": [],
   "source": [
    "times_for_brute_force_cutter_with_a_trick = []\n",
    "for i in X:\n",
    "    t = timeit.Timer(functools.partial(brute_force_cutter_with_a_trick, i))\n",
    "    elapsed_time = t.timeit(10)/10\n",
    "    times_for_brute_force_cutter_with_a_trick.append(elapsed_time)"
   ]
  },
  {
   "cell_type": "code",
   "execution_count": 18,
   "metadata": {},
   "outputs": [],
   "source": [
    "times_for_bottom_up_cutter = []\n",
    "for i in X:\n",
    "    t = timeit.Timer(functools.partial(bottom_up_cutter, i))\n",
    "    elapsed_time = t.timeit(10)/10\n",
    "    times_for_bottom_up_cutter.append(elapsed_time)"
   ]
  },
  {
   "cell_type": "code",
   "execution_count": 19,
   "metadata": {},
   "outputs": [],
   "source": [
    "times_for_memoized_cutter = []\n",
    "for i in X:\n",
    "    t = timeit.Timer(functools.partial(memoized_cutter, i))\n",
    "    elapsed_time = t.timeit(10)/10\n",
    "    times_for_memoized_cutter.append(elapsed_time)"
   ]
  },
  {
   "cell_type": "markdown",
   "metadata": {},
   "source": [
    "### We can see that the brute force approach is exponentially slower than the rest of the approaches"
   ]
  },
  {
   "cell_type": "code",
   "execution_count": 20,
   "metadata": {},
   "outputs": [
    {
     "data": {
      "text/plain": [
       "<matplotlib.legend.Legend at 0x7f3028cf0b50>"
      ]
     },
     "execution_count": 20,
     "metadata": {},
     "output_type": "execute_result"
    },
    {
     "data": {
      "image/png": "[encoded data removed]",
      "text/plain": [
       "<Figure size 1008x504 with 1 Axes>"
      ]
     },
     "metadata": {
      "needs_background": "light"
     },
     "output_type": "display_data"
    }
   ],
   "source": [
    "import matplotlib.pyplot as plt\n",
    "%matplotlib inline\n",
    "plt.rcParams[\"figure.figsize\"] = (14,7)\n",
    "x = list(range(5,51))\n",
    "plt.plot(x[0:21],times_for_pure_brute_force_cutter, label=\"Brute Force\")\n",
    "plt.plot(x,times_for_brute_force_cutter_with_a_trick, label=\"Brute Force With a Trick\")\n",
    "plt.plot(x,times_for_bottom_up_cutter, label=\"Bottom Up\")\n",
    "plt.plot(x,times_for_memoized_cutter, label=\"Memoized Function\")\n",
    "plt.xlabel('Length in Inches')\n",
    "plt.ylabel('Time in ms')\n",
    "plt.title('Order of growth')\n",
    "plt.legend(loc=\"upper left\")"
   ]
  },
  {
   "cell_type": "markdown",
   "metadata": {},
   "source": [
    "### We will plot only the 10 inches so we can see the distinction more clearly"
   ]
  },
  {
   "cell_type": "code",
   "execution_count": 21,
   "metadata": {},
   "outputs": [
    {
     "data": {
      "text/plain": [
       "<matplotlib.legend.Legend at 0x7f300994aad0>"
      ]
     },
     "execution_count": 21,
     "metadata": {},
     "output_type": "execute_result"
    },
    {
     "data": {
      "image/png": "[encoded data removed]",
      "text/plain": [
       "<Figure size 1008x504 with 1 Axes>"
      ]
     },
     "metadata": {
      "needs_background": "light"
     },
     "output_type": "display_data"
    }
   ],
   "source": [
    "plt.plot(x[0:5],times_for_pure_brute_force_cutter[0:5], label=\"Brute Force\")\n",
    "plt.plot(x[0:5],times_for_brute_force_cutter_with_a_trick[0:5], label=\"Brute Force With a Trick\")\n",
    "plt.plot(x[0:5],times_for_bottom_up_cutter[0:5], label=\"Bottom Up\")\n",
    "plt.plot(x[0:5],times_for_memoized_cutter[0:5], label=\"Memoized Function\")\n",
    "plt.xlabel('Length in Inches')\n",
    "plt.ylabel('Time in ms')\n",
    "plt.title('Order of growth')\n",
    "plt.legend(loc=\"upper left\")"
   ]
  },
  {
   "cell_type": "markdown",
   "metadata": {},
   "source": [
    "## Observations\n",
    "### In the following graph, it is clear that the brute force with a trick algorithm has exponential order of growth until it reaches a value of length divisible by 10, then it resets. Which is exactly the trick.\n",
    "### We also observe that the memory function outperforms the bottom up approach."
   ]
  },
  {
   "cell_type": "code",
   "execution_count": 22,
   "metadata": {},
   "outputs": [
    {
     "data": {
      "text/plain": [
       "<matplotlib.legend.Legend at 0x7f3009a9ab10>"
      ]
     },
     "execution_count": 22,
     "metadata": {},
     "output_type": "execute_result"
    },
    {
     "data": {
      "image/png": "[encoded data removed]",
      "text/plain": [
       "<Figure size 1008x504 with 1 Axes>"
      ]
     },
     "metadata": {
      "needs_background": "light"
     },
     "output_type": "display_data"
    }
   ],
   "source": [
    "plt.plot(x,times_for_brute_force_cutter_with_a_trick, label=\"Brute Force With a Trick\")\n",
    "plt.plot(x,times_for_bottom_up_cutter, label=\"Bottom Up\")\n",
    "plt.plot(x,times_for_memoized_cutter, label=\"Memoized Function\")\n",
    "plt.xlabel('Length in Inches')\n",
    "plt.ylabel('Time in ms')\n",
    "plt.title('Order of growth')\n",
    "plt.legend(loc=\"upper left\")"
   ]
  }
 ],
 "metadata": {
  "kernelspec": {
   "display_name": "Python 3",
   "language": "python",
   "name": "python3"
  },
  "language_info": {
   "codemirror_mode": {
    "name": "ipython",
    "version": 3
   },
   "file_extension": ".py",
   "mimetype": "text/x-python",
   "name": "python",
   "nbconvert_exporter": "python",
   "pygments_lexer": "ipython3",
   "version": "3.8.5"
  }
 },
 "nbformat": 4,
 "nbformat_minor": 4
}
